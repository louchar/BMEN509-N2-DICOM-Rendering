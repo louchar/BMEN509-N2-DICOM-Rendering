{
 "cells": [
  {
   "cell_type": "code",
   "execution_count": 6,
   "metadata": {
    "scrolled": false
   },
   "outputs": [
    {
     "name": "stdout",
     "output_type": "stream",
     "text": [
      "Traceback (most recent call last):\n",
      "  File \"/opt/conda/bin/pip\", line 11, in <module>\n",
      "    sys.exit(main())\n",
      "TypeError: 'module' object is not callable\n",
      "Traceback (most recent call last):\n",
      "  File \"/opt/conda/bin/pip\", line 11, in <module>\n",
      "    sys.exit(main())\n",
      "TypeError: 'module' object is not callable\n",
      "Traceback (most recent call last):\n",
      "  File \"/opt/conda/bin/pip\", line 11, in <module>\n",
      "    sys.exit(main())\n",
      "TypeError: 'module' object is not callable\n",
      "Installing /home/jupyter/.local/lib/python3.6/site-packages/hide_code/ -> hide_code\n",
      "Making directory: /opt/conda/share/jupyter/nbextensions/hide_code/\n",
      "Copying: /home/jupyter/.local/lib/python3.6/site-packages/hide_code/hide_code_latex_exporter.py -> /opt/conda/share/jupyter/nbextensions/hide_code/hide_code_latex_exporter.py\n",
      "Copying: /home/jupyter/.local/lib/python3.6/site-packages/hide_code/hide_code.py -> /opt/conda/share/jupyter/nbextensions/hide_code/hide_code.py\n",
      "Copying: /home/jupyter/.local/lib/python3.6/site-packages/hide_code/utils.py -> /opt/conda/share/jupyter/nbextensions/hide_code/utils.py\n",
      "Copying: /home/jupyter/.local/lib/python3.6/site-packages/hide_code/hide_code_preprocessor.py -> /opt/conda/share/jupyter/nbextensions/hide_code/hide_code_preprocessor.py\n",
      "Copying: /home/jupyter/.local/lib/python3.6/site-packages/hide_code/hide_code_config.py -> /opt/conda/share/jupyter/nbextensions/hide_code/hide_code_config.py\n",
      "Copying: /home/jupyter/.local/lib/python3.6/site-packages/hide_code/auto-load-server-extension.txt -> /opt/conda/share/jupyter/nbextensions/hide_code/auto-load-server-extension.txt\n",
      "Copying: /home/jupyter/.local/lib/python3.6/site-packages/hide_code/hide_code_html_exporter.py -> /opt/conda/share/jupyter/nbextensions/hide_code/hide_code_html_exporter.py\n",
      "Copying: /home/jupyter/.local/lib/python3.6/site-packages/hide_code/hide_code_slides_exporter.py -> /opt/conda/share/jupyter/nbextensions/hide_code/hide_code_slides_exporter.py\n",
      "Copying: /home/jupyter/.local/lib/python3.6/site-packages/hide_code/LICENSE.txt -> /opt/conda/share/jupyter/nbextensions/hide_code/LICENSE.txt\n",
      "Copying: /home/jupyter/.local/lib/python3.6/site-packages/hide_code/auto-load.txt -> /opt/conda/share/jupyter/nbextensions/hide_code/auto-load.txt\n",
      "Copying: /home/jupyter/.local/lib/python3.6/site-packages/hide_code/hide_code.js -> /opt/conda/share/jupyter/nbextensions/hide_code/hide_code.js\n",
      "Copying: /home/jupyter/.local/lib/python3.6/site-packages/hide_code/hide_code_pdf_exporter.py -> /opt/conda/share/jupyter/nbextensions/hide_code/hide_code_pdf_exporter.py\n",
      "Copying: /home/jupyter/.local/lib/python3.6/site-packages/hide_code/__init__.py -> /opt/conda/share/jupyter/nbextensions/hide_code/__init__.py\n",
      "Copying: /home/jupyter/.local/lib/python3.6/site-packages/hide_code/hide_code_config.json -> /opt/conda/share/jupyter/nbextensions/hide_code/hide_code_config.json\n",
      "Making directory: /opt/conda/share/jupyter/nbextensions/hide_code/Templates\n",
      "Copying: /home/jupyter/.local/lib/python3.6/site-packages/hide_code/Templates/hide_code_full.tpl -> /opt/conda/share/jupyter/nbextensions/hide_code/Templates/hide_code_full.tpl\n",
      "Copying: /home/jupyter/.local/lib/python3.6/site-packages/hide_code/Templates/hide_code_slides.tpl -> /opt/conda/share/jupyter/nbextensions/hide_code/Templates/hide_code_slides.tpl\n",
      "Copying: /home/jupyter/.local/lib/python3.6/site-packages/hide_code/Templates/hide_code_base_style.tplx -> /opt/conda/share/jupyter/nbextensions/hide_code/Templates/hide_code_base_style.tplx\n",
      "Copying: /home/jupyter/.local/lib/python3.6/site-packages/hide_code/Templates/hide_code_article.tplx -> /opt/conda/share/jupyter/nbextensions/hide_code/Templates/hide_code_article.tplx\n",
      "Copying: /home/jupyter/.local/lib/python3.6/site-packages/hide_code/Templates/hide_code_basic.tpl -> /opt/conda/share/jupyter/nbextensions/hide_code/Templates/hide_code_basic.tpl\n",
      "Making directory: /opt/conda/share/jupyter/nbextensions/hide_code/__pycache__\n",
      "Copying: /home/jupyter/.local/lib/python3.6/site-packages/hide_code/__pycache__/hide_code_html_exporter.cpython-36.pyc -> /opt/conda/share/jupyter/nbextensions/hide_code/__pycache__/hide_code_html_exporter.cpython-36.pyc\n",
      "Copying: /home/jupyter/.local/lib/python3.6/site-packages/hide_code/__pycache__/hide_code_config.cpython-36.pyc -> /opt/conda/share/jupyter/nbextensions/hide_code/__pycache__/hide_code_config.cpython-36.pyc\n",
      "Copying: /home/jupyter/.local/lib/python3.6/site-packages/hide_code/__pycache__/hide_code_pdf_exporter.cpython-36.pyc -> /opt/conda/share/jupyter/nbextensions/hide_code/__pycache__/hide_code_pdf_exporter.cpython-36.pyc\n",
      "Copying: /home/jupyter/.local/lib/python3.6/site-packages/hide_code/__pycache__/hide_code.cpython-36.pyc -> /opt/conda/share/jupyter/nbextensions/hide_code/__pycache__/hide_code.cpython-36.pyc\n",
      "Copying: /home/jupyter/.local/lib/python3.6/site-packages/hide_code/__pycache__/hide_code_preprocessor.cpython-36.pyc -> /opt/conda/share/jupyter/nbextensions/hide_code/__pycache__/hide_code_preprocessor.cpython-36.pyc\n",
      "Copying: /home/jupyter/.local/lib/python3.6/site-packages/hide_code/__pycache__/hide_code_slides_exporter.cpython-36.pyc -> /opt/conda/share/jupyter/nbextensions/hide_code/__pycache__/hide_code_slides_exporter.cpython-36.pyc\n",
      "Copying: /home/jupyter/.local/lib/python3.6/site-packages/hide_code/__pycache__/utils.cpython-36.pyc -> /opt/conda/share/jupyter/nbextensions/hide_code/__pycache__/utils.cpython-36.pyc\n",
      "Copying: /home/jupyter/.local/lib/python3.6/site-packages/hide_code/__pycache__/hide_code_latex_exporter.cpython-36.pyc -> /opt/conda/share/jupyter/nbextensions/hide_code/__pycache__/hide_code_latex_exporter.cpython-36.pyc\n",
      "Copying: /home/jupyter/.local/lib/python3.6/site-packages/hide_code/__pycache__/__init__.cpython-36.pyc -> /opt/conda/share/jupyter/nbextensions/hide_code/__pycache__/__init__.cpython-36.pyc\n",
      "- Validating: \u001b[32mOK\u001b[0m\n",
      "\n",
      "    To initialize this nbextension in the browser every time the notebook (or other app) loads:\n",
      "    \n",
      "          jupyter nbextension enable hide_code --py --sys-prefix\n",
      "    \n",
      "Enabling notebook extension hide_code/hide_code...\n",
      "      - Validating: \u001b[32mOK\u001b[0m\n",
      "Enabling: hide_code\n",
      "- Writing config: /opt/conda/etc/jupyter\n",
      "    - Validating...\n",
      "      hide_code  \u001b[32mOK\u001b[0m\n",
      "Traceback (most recent call last):\n",
      "  File \"/opt/conda/bin/pip\", line 11, in <module>\n",
      "    sys.exit(main())\n",
      "TypeError: 'module' object is not callable\n",
      "Traceback (most recent call last):\n",
      "  File \"/opt/conda/bin/pip\", line 11, in <module>\n",
      "    sys.exit(main())\n",
      "TypeError: 'module' object is not callable\n"
     ]
    }
   ],
   "source": [
    "!pip install jupyter_contrib_nbextensions\n",
    "!pip install jupyter_nbextensions_configurator\n",
    "!pip install pydicom==1.2.2\n",
    "!pip install -U --user ipywidgets "
   ]
  },
  {
   "cell_type": "code",
   "execution_count": null,
   "metadata": {},
   "outputs": [],
   "source": []
  }
 ],
 "metadata": {
  "kernelspec": {
   "display_name": "Python 3",
   "language": "python",
   "name": "python3"
  },
  "language_info": {
   "codemirror_mode": {
    "name": "ipython",
    "version": 3
   },
   "file_extension": ".py",
   "mimetype": "text/x-python",
   "name": "python",
   "nbconvert_exporter": "python",
   "pygments_lexer": "ipython3",
   "version": "3.6.8"
  }
 },
 "nbformat": 4,
 "nbformat_minor": 2
}
